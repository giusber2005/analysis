{
 "cells": [
  {
   "cell_type": "markdown",
   "metadata": {},
   "source": [
    "# ***SEQUENCES***"
   ]
  },
  {
   "cell_type": "markdown",
   "metadata": {},
   "source": [
    "***Introduction*** This notebooks will be all about series! Series are the extension of the elementary algebric operation of the sum to an infinite number of addends.\n",
    "<br>Talking more in depth, given a sequence of real numbers $a_n$, we will call the sequence of the real terms $a_n$ the formal writing $\\sum_{n=0}^{\\infty} a_n$\n",
    "<br>To understand better this writing, let's introduct another sequence $\\{s_n\\}$, with his terms like this:\n",
    "> $s_0 = a_0$\n",
    "<br>    $s_1 = a_0 + a_1$\n",
    "<br>    $s_2 = a_0 + a_1 + a_2$\n",
    "<br>    $s_n = a_0 + a_1 + a_2 + \\cdots + a_n$\n",
    "\n",
    "<br> $s_n$ is called the partial sum of the first n terms of $\\{s_n\\}$\n",
    "<br> The terms of this series can be condensated in this writing: $s_n = \\sum_{k=0}^{n} a_k$\n",
    "<br> So $\\{s_n\\} = \\sum_{n=0}^{\\infty} s_n$ \n",
    "<br>\n",
    "<br>***Definition*** $\\{s_n\\}$ is useful to study the character of $\\{a_n\\}$, in fact $\\{a_n\\}$ will be *convergent, divergent, irregular* if $\\{s_n\\}$ is convergent, divergent, irregular\n",
    "<br> In particular if $s_n \\rightarrow s$ we will have that $\\sum_{n=0}^{\\infty} a_n = s$\n",
    "    "
   ]
  },
  {
   "cell_type": "markdown",
   "metadata": {},
   "source": [
    "### ***SOME FUN SEQUENCES***"
   ]
  },
  {
   "cell_type": "markdown",
   "metadata": {},
   "source": [
    "***1: The geometric series***"
   ]
  }
 ],
 "metadata": {
  "kernelspec": {
   "display_name": "Myenv",
   "language": "python",
   "name": "python3"
  },
  "language_info": {
   "codemirror_mode": {
    "name": "ipython",
    "version": 3
   },
   "file_extension": ".py",
   "mimetype": "text/x-python",
   "name": "python",
   "nbconvert_exporter": "python",
   "pygments_lexer": "ipython3",
   "version": "3.12.6"
  }
 },
 "nbformat": 4,
 "nbformat_minor": 2
}
